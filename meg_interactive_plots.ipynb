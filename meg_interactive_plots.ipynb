{
 "cells": [
  {
   "cell_type": "code",
   "execution_count": null,
   "metadata": {},
   "outputs": [],
   "source": [
    "## This notebook loads the MEG timeseries (one text file for each frequency band) that were generated \n",
    "## after processing the MEG data (details regarding processing contained in the MEG_processing.md file)\n",
    "## and uses them to plot a functional connectivity matrix and a graph. \n",
    "## It calls nilearn functions to set the atlas labels and to plot the functional connectivity results, and \n",
    "## then uses ipywidgets to create and display the interactive figure"
   ]
  },
  {
   "cell_type": "code",
   "execution_count": null,
   "metadata": {},
   "outputs": [],
   "source": [
    "# First we set up the tools we will be using\n",
    "\n",
    "# Ipywidgets\n",
    "from __future__ import print_function\n",
    "from ipywidgets import interact, interactive, fixed, interact_manual\n",
    "import ipywidgets as widgets\n",
    "\n",
    "# nilearn tools\n",
    "from nilearn import datasets\n",
    "from nilearn import plotting\n",
    "from nilearn.connectome import ConnectivityMeasure\n",
    "\n",
    "# numpy\n",
    "import numpy as np"
   ]
  },
  {
   "cell_type": "code",
   "execution_count": null,
   "metadata": {},
   "outputs": [],
   "source": [
    "# Then we grab the atlas we want to use from nilearn\n",
    "\n",
    "# Download the destrieux atlas 2009\n",
    "dataset = datasets.fetch_atlas_destrieux_2009(lateralized=True) # get dataset\n",
    "atlas_filename = dataset.maps # set atlas images\n",
    "labels = dataset.labels # set atlas labels\n",
    "\n",
    "print('Atlas ROIs are located at: %s' % atlas_filename) # print atlas location\n",
    "\n",
    "# plot destrieux atlas with title\n",
    "plotting.plot_roi(atlas_filename, title=\"Destrieux atlas\")\n",
    "plotting.show()"
   ]
  },
  {
   "cell_type": "code",
   "execution_count": null,
   "metadata": {},
   "outputs": [],
   "source": [
    "# Now load the MEG data\n",
    "#delta = np.loadtxt('/media/jonathan/Data/McGill/HCP/delta_timeseries.txt', delimiter=' ')\n",
    "#theta = np.loadtxt('/media/jonathan/Data/McGill/HCP/theta_timeseries.txt', delimiter=' ')\n",
    "alpha = np.loadtxt('/media/jonathan/Data/McGill/HCP/alpha_timeseries.txt', delimiter=' ')\n",
    "#beta = np.loadtxt('/media/jonathan/Data/McGill/HCP/beta_timeseries.txt', delimiter=' ')\n",
    "#gamma = np.loadtxt('/media/jonathan/Data/McGill/HCP/gamma_timeseries.txt', delimiter=' ')"
   ]
  },
  {
   "cell_type": "code",
   "execution_count": null,
   "metadata": {},
   "outputs": [],
   "source": [
    "# Select adequate labeles for the Destrieux atlas (omit 0-background, 42-left median wall and 117-right median wall)\n",
    "labels = dataset.labels\n",
    "labels=labels[np.array([1,2,3,4,5,6,7,8,9,10,11,12,13,14,15,16,17,18,19,20,21,22,23,24,25,26,27,28,29,30,\n",
    "                 31,32,33,34,35,36,37,38,39,40,41,43,44,45,46,47,48,49,50,51,52,53,54,55,56,57,58,59,60,\n",
    "                 61,62,63,64,65,66,67,68,69,70,71,72,73,74,75,76,77,78,79,80,81,82,83,84,85,86,87,88,89,90,\n",
    "                 91,92,93,94,95,96,97,98,99,100,101,102,103,104,105,106,107,108,109,110,111,112,113,114,\n",
    "                 115,116,118,119,120,121,122,123,124,125,126,127,128,129,130,131,132,133,134,135,136,137,\n",
    "                 138,139,140,141,142,143,144,145,146,147,148,149,150])]"
   ]
  },
  {
   "cell_type": "code",
   "execution_count": null,
   "metadata": {},
   "outputs": [],
   "source": [
    "# Create interactive plot containing 2 widgets to pull the data used for plotting:\n",
    "# First widget \"x\" allows to select the frequency band\n",
    "# Second widget \"y\" allows to scroll across the different subjects\n",
    "\n",
    "# First widget\n",
    "matrix = np.zeros((366216,148)) # Pre-allocate matrix\n",
    "def x(band):\n",
    "    if band == 0:\n",
    "        matrix[:,:]= alpha[:,:]\n",
    "    elif band== 1:\n",
    "        matrix[:,:]= alpha[:,:]\n",
    "    elif band== 2:\n",
    "        matrix[:,:]= alpha[:,:]\n",
    "    elif band== 3:\n",
    "        matrix[:,:]= alpha[:,:]\n",
    "    elif band== 4:\n",
    "        matrix[:,:]= alpha[:,:]\n",
    "\n",
    "# Second widget\n",
    "mat = np.zeros((30518,148)) # Pre-allocate matrix\n",
    "def y(subject):\n",
    "    if subject == 0:\n",
    "        mat[:,:]= matrix[range(0,30518),:]\n",
    "    elif subject== 1:\n",
    "        mat[:,:]= matrix[range(30518,61036),:]\n",
    "    elif subject== 2:\n",
    "        mat[:,:]= matrix[range(61036,91554),:]\n",
    "    elif subject== 3:\n",
    "        mat[:,:]= matrix[range(91554,122072),:]\n",
    "    elif subject== 4:\n",
    "        mat[:,:]= matrix[range(122072,152590),:]\n",
    "    elif subject== 5:\n",
    "        mat[:,:]= matrix[range(152590,183108),:]\n",
    "    elif subject== 6:\n",
    "        mat[:,:]= matrix[range(183108,213626),:]\n",
    "    elif subject== 7:\n",
    "        mat[:,:]= matrix[range(213626,244144),:]\n",
    "    elif subject== 8:\n",
    "        mat[:,:]= matrix[range(244144,274662),:]\n",
    "    elif subject== 9:\n",
    "        mat[:,:]= matrix[range(274662,305180),:]\n",
    "    elif subject== 10:\n",
    "        mat[:,:]= matrix[range(305180,335698),:]\n",
    "    elif subject== 11:\n",
    "        mat[:,:]= matrix[range(335698,366216),:]\n",
    "    elif subject== 12:\n",
    "        mat[:,:]= matrix[range(366216,396734),:]\n",
    "              \n",
    "    # Set title with subject name\n",
    "    c = str(subject+1)            \n",
    "    title = 'Subject '+c+' MEG Connectivity Matrix'\n",
    "    print(title)\n",
    "    \n",
    "    # Compute connectivity matrix (similar results to the one obtained before)\n",
    "    correlation_measure = ConnectivityMeasure(kind='correlation')\n",
    "    correlation_matrix = correlation_measure.fit_transform([mat])[0]\n",
    "    np.fill_diagonal(correlation_matrix, 0) # mask the main diagonal for visualization\n",
    "    \n",
    "    # Plot the correlation matrix, setting the labels to our correct list of labels\n",
    "    f = plotting.plot_matrix(correlation_matrix, figure=(20, 16), labels=labels,\n",
    "                     vmax=0.8, vmin=-0.8, reorder=False)\n",
    "    \n",
    "    # Plot connectome, setting an edge threshold\n",
    "    coordinates = plotting.find_parcellation_cut_coords(labels_img=atlas_filename) # grab center coordinates for atlas labels\n",
    "    plotting.plot_connectome(correlation_matrix, coordinates,edge_threshold=\"99.9%\",title='Connectivity graph') "
   ]
  },
  {
   "cell_type": "code",
   "execution_count": null,
   "metadata": {},
   "outputs": [],
   "source": [
    "# Display interactive figure\n",
    "interact(x, band=[('Delta', 0), ('Theta', 1), ('Alpha', 2), ('Beta', 3), ('Gamma', 4)]);\n",
    "interact(y, subject=[('Subject 1', 0), ('Subject 2', 1), ('Subject 3', 2), ('Subject 4', 3), ('Subject 5', 4), \n",
    "             ('Subject 6', 5), ('Subject 7', 6), ('Subject 8', 7), ('Subject 9', 8), ('Subject 10', 9), \n",
    "             ('Subject 11', 10), ('Subject 12', 11)]);"
   ]
  },
  {
   "cell_type": "code",
   "execution_count": null,
   "metadata": {},
   "outputs": [],
   "source": [
    "from IPython.display import HTML\n",
    "HTML('<img src=\"https://media.giphy.com/media/3orieK2IO0sQ0Hhse4/giphy.gif\">')"
   ]
  }
 ],
 "metadata": {
  "kernelspec": {
   "display_name": "Python 3",
   "language": "python",
   "name": "python3"
  },
  "language_info": {
   "codemirror_mode": {
    "name": "ipython",
    "version": 3
   },
   "file_extension": ".py",
   "mimetype": "text/x-python",
   "name": "python",
   "nbconvert_exporter": "python",
   "pygments_lexer": "ipython3",
   "version": "3.7.6"
  }
 },
 "nbformat": 4,
 "nbformat_minor": 4
}
